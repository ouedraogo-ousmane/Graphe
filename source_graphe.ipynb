{
 "cells": [
  {
   "attachments": {},
   "cell_type": "markdown",
   "metadata": {},
   "source": [
    "# Programme permettant de representer un graphe orienté"
   ]
  },
  {
   "attachments": {},
   "cell_type": "markdown",
   "metadata": {},
   "source": [
    "## Les fonctionnalités implementer dans ce programme sont les suivants :"
   ]
  },
  {
   "attachments": {},
   "cell_type": "markdown",
   "metadata": {},
   "source": [
    "1. Insertion de noeuds dans un graphe\n",
    "2. Insertion d'arc dans un graphe\n",
    "3. Determination des niveaux du graphe\n",
    "4. Insertion de la distance d'un arc\n",
    "5. Visualisation du graphe"
   ]
  },
  {
   "cell_type": "code",
   "execution_count": 34,
   "metadata": {},
   "outputs": [
    {
     "name": "stdout",
     "output_type": "stream",
     "text": [
      "Noeud 1 ===> Niveau 0\n",
      "Noeud 2 ===> Niveau 1\n",
      "Noeud 4 ===> Niveau 1\n",
      "Noeud 3 ===> Niveau 2\n",
      "Noeud 5 ===> Niveau 2\n",
      "Niveaux du graphe: {1: 0, 2: 1, 4: 1, 3: 2, 5: 2}\n"
     ]
    },
    {
     "data": {
      "image/png": "[encoded data removed]",
      "text/plain": [
       "<Figure size 432x288 with 1 Axes>"
      ]
     },
     "metadata": {},
     "output_type": "display_data"
    }
   ],
   "source": [
    "import networkx as nx\n",
    "import matplotlib.pyplot as plt\n",
    "\n",
    "class Graph:\n",
    "    \"\"\"Cette classe represente un graphe orienté\n",
    "    \"\"\"\n",
    "    def __init__(self):\n",
    "        \"\"\"Iniatialisation de la classe\n",
    "        \"\"\"\n",
    "        self.G = nx.DiGraph()\n",
    "\n",
    "    def inserer_node(self, node):\n",
    "        \"\"\"cette methode permet d'inserer un noeud dans le graph \n",
    "\n",
    "        Args:\n",
    "            node (entier, character): va representer le noeud\n",
    "        \"\"\"\n",
    "        self.G.add_node(node)\n",
    "\n",
    "    def inserer_arc(self, node1, node2):\n",
    "        \"\"\"Cette methode quant à elle permet d'inserer un arc dans le graphe\n",
    "\n",
    "        Args:\n",
    "            node1 (_type_): represente le noeud source\n",
    "            node2 (_type_): represente le noeud de destination\n",
    "        \"\"\"\n",
    "        self.G.add_edge(node1, node2)\n",
    "        \n",
    "    def determiner_niveaux(self):\n",
    "        \"\"\"Cette methode permet de determiner les niveaux du graphe\n",
    "\n",
    "        Returns:\n",
    "            _type_: _description_\n",
    "        \"\"\"\n",
    "        levels = nx.single_source_shortest_path_length(self.G, list(self.G.nodes())[0])\n",
    "        return levels\n",
    "    \n",
    "    def inserer_arc_distance(self, node1, node2, distance):\n",
    "        \"\"\"Cette methode permet d'ajouter une distance à un arc\n",
    "\n",
    "        Args:\n",
    "            node1 (_type_): _description_\n",
    "            node2 (_type_): _description_\n",
    "            distance (_type_): _description_\n",
    "        \"\"\"\n",
    "        if self.G.has_edge(node1, node2):\n",
    "            self.G[node1][node2]['distance'] = distance\n",
    "\n",
    "    def visualize(self):\n",
    "        \"\"\"Et cette methode permet de visualiser le graphe.\n",
    "        \"\"\"\n",
    "        pos = nx.spring_layout(self.G)  # Calcul des positions des nœuds\n",
    "        nx.draw(self.G, pos, with_labels=True, node_color='lightblue', edge_color='gray', arrows=True)\n",
    "\n",
    "        edge_labels = nx.get_edge_attributes(self.G, 'distance')\n",
    "        nx.draw_networkx_edge_labels(self.G, pos, edge_labels=edge_labels)\n",
    "\n",
    "        plt.show()\n",
    "\n",
    "\n",
    "# Exemple d'utilisation\n",
    "graph = Graph()\n",
    "graph.inserer_node(1)\n",
    "graph.inserer_node(2)\n",
    "graph.inserer_node(3)\n",
    "graph.inserer_node(4)\n",
    "graph.inserer_node(5)\n",
    "graph.inserer_arc(1,4)\n",
    "graph.inserer_arc(3,4)\n",
    "graph.inserer_arc(3,5)\n",
    "graph.inserer_arc(4,5)\n",
    "graph.inserer_arc(1, 2)\n",
    "graph.inserer_arc(2, 3)\n",
    "levels = graph.determiner_niveaux()\n",
    "for key,value in levels.items():\n",
    "    print(\"Noeud {} ===> Niveau {}\".format(key,value))\n",
    "print(\"Niveaux du graphe:\", levels)\n",
    "graph.inserer_arc_distance(1, 2, 5)\n",
    "graph.inserer_arc_distance(2, 3, 3)\n",
    "graph.visualize()\n",
    "\n"
   ]
  },
  {
   "cell_type": "code",
   "execution_count": null,
   "metadata": {},
   "outputs": [],
   "source": []
  }
 ],
 "metadata": {
  "kernelspec": {
   "display_name": "base",
   "language": "python",
   "name": "python3"
  },
  "language_info": {
   "codemirror_mode": {
    "name": "ipython",
    "version": 3
   },
   "file_extension": ".py",
   "mimetype": "text/x-python",
   "name": "python",
   "nbconvert_exporter": "python",
   "pygments_lexer": "ipython3",
   "version": "3.9.7"
  },
  "orig_nbformat": 4
 },
 "nbformat": 4,
 "nbformat_minor": 2
}
